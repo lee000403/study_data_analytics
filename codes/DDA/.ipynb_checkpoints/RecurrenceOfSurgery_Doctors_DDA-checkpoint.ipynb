{
 "cells": [
  {
   "cell_type": "code",
   "execution_count": 224,
   "id": "7a7f62aa-abbe-4d2f-9f68-9ff45f08e3d1",
   "metadata": {
    "tags": []
   },
   "outputs": [],
   "source": [
    "import pandas as pd\n",
    "import numpy as np"
   ]
  },
  {
   "cell_type": "code",
   "execution_count": 225,
   "id": "2145da47-37a4-44b8-91d0-efaff0002e60",
   "metadata": {
    "tags": []
   },
   "outputs": [
    {
     "data": {
      "text/html": [
       "<div>\n",
       "<style scoped>\n",
       "    .dataframe tbody tr th:only-of-type {\n",
       "        vertical-align: middle;\n",
       "    }\n",
       "\n",
       "    .dataframe tbody tr th {\n",
       "        vertical-align: top;\n",
       "    }\n",
       "\n",
       "    .dataframe thead th {\n",
       "        text-align: right;\n",
       "    }\n",
       "</style>\n",
       "<table border=\"1\" class=\"dataframe\">\n",
       "  <thead>\n",
       "    <tr style=\"text-align: right;\">\n",
       "      <th></th>\n",
       "      <th>Unnamed: 0</th>\n",
       "      <th>환자ID</th>\n",
       "      <th>Large Lymphocyte</th>\n",
       "      <th>Location of herniation</th>\n",
       "      <th>ODI</th>\n",
       "      <th>가족력</th>\n",
       "      <th>간질성폐질환</th>\n",
       "      <th>고혈압여부</th>\n",
       "      <th>과거수술횟수</th>\n",
       "      <th>당뇨여부</th>\n",
       "      <th>...</th>\n",
       "      <th>Modic change</th>\n",
       "      <th>PI</th>\n",
       "      <th>PT</th>\n",
       "      <th>Seg Angle(raw)</th>\n",
       "      <th>Vaccum disc</th>\n",
       "      <th>골밀도</th>\n",
       "      <th>디스크단면적</th>\n",
       "      <th>디스크위치</th>\n",
       "      <th>척추이동척도</th>\n",
       "      <th>척추전방위증</th>\n",
       "    </tr>\n",
       "  </thead>\n",
       "  <tbody>\n",
       "    <tr>\n",
       "      <th>0</th>\n",
       "      <td>0</td>\n",
       "      <td>1PT</td>\n",
       "      <td>22.8</td>\n",
       "      <td>3</td>\n",
       "      <td>51.0</td>\n",
       "      <td>0.0</td>\n",
       "      <td>0</td>\n",
       "      <td>0</td>\n",
       "      <td>0</td>\n",
       "      <td>0</td>\n",
       "      <td>...</td>\n",
       "      <td>3</td>\n",
       "      <td>51.6</td>\n",
       "      <td>36.6</td>\n",
       "      <td>14.4</td>\n",
       "      <td>0</td>\n",
       "      <td>-1.01</td>\n",
       "      <td>2048.5</td>\n",
       "      <td>4</td>\n",
       "      <td>Down</td>\n",
       "      <td>0</td>\n",
       "    </tr>\n",
       "    <tr>\n",
       "      <th>1</th>\n",
       "      <td>1</td>\n",
       "      <td>2PT</td>\n",
       "      <td>44.9</td>\n",
       "      <td>4</td>\n",
       "      <td>26.0</td>\n",
       "      <td>0.0</td>\n",
       "      <td>0</td>\n",
       "      <td>0</td>\n",
       "      <td>0</td>\n",
       "      <td>0</td>\n",
       "      <td>...</td>\n",
       "      <td>0</td>\n",
       "      <td>40.8</td>\n",
       "      <td>7.2</td>\n",
       "      <td>17.8</td>\n",
       "      <td>0</td>\n",
       "      <td>-1.14</td>\n",
       "      <td>1753.1</td>\n",
       "      <td>4</td>\n",
       "      <td>Up</td>\n",
       "      <td>0</td>\n",
       "    </tr>\n",
       "  </tbody>\n",
       "</table>\n",
       "<p>2 rows × 52 columns</p>\n",
       "</div>"
      ],
      "text/plain": [
       "   Unnamed: 0 환자ID  Large Lymphocyte  Location of herniation   ODI  가족력  \\\n",
       "0           0  1PT              22.8                       3  51.0  0.0   \n",
       "1           1  2PT              44.9                       4  26.0  0.0   \n",
       "\n",
       "   간질성폐질환  고혈압여부  과거수술횟수  당뇨여부  ...  Modic change    PI    PT  Seg Angle(raw)  \\\n",
       "0       0      0       0     0  ...             3  51.6  36.6            14.4   \n",
       "1       0      0       0     0  ...             0  40.8   7.2            17.8   \n",
       "\n",
       "   Vaccum disc   골밀도  디스크단면적  디스크위치  척추이동척도  척추전방위증  \n",
       "0            0 -1.01  2048.5      4    Down       0  \n",
       "1            0 -1.14  1753.1      4      Up       0  \n",
       "\n",
       "[2 rows x 52 columns]"
      ]
     },
     "execution_count": 225,
     "metadata": {},
     "output_type": "execute_result"
    }
   ],
   "source": [
    "df_ROS = pd.read_csv('../../datasets/RecurrenceOfSurgery.csv')\n",
    "df_ROS.head(2)"
   ]
  },
  {
   "cell_type": "code",
   "execution_count": 226,
   "id": "7dc7cc6d-53c5-40af-931d-7b44949d6bb5",
   "metadata": {
    "tags": []
   },
   "outputs": [
    {
     "name": "stdout",
     "output_type": "stream",
     "text": [
      "<class 'pandas.core.frame.DataFrame'>\n",
      "RangeIndex: 1894 entries, 0 to 1893\n",
      "Data columns (total 52 columns):\n",
      " #   Column                  Non-Null Count  Dtype  \n",
      "---  ------                  --------------  -----  \n",
      " 0   Unnamed: 0              1894 non-null   int64  \n",
      " 1   환자ID                    1894 non-null   object \n",
      " 2   Large Lymphocyte        1894 non-null   float64\n",
      " 3   Location of herniation  1894 non-null   int64  \n",
      " 4   ODI                     462 non-null    float64\n",
      " 5   가족력                     1843 non-null   float64\n",
      " 6   간질성폐질환                  1894 non-null   int64  \n",
      " 7   고혈압여부                   1894 non-null   int64  \n",
      " 8   과거수술횟수                  1894 non-null   int64  \n",
      " 9   당뇨여부                    1894 non-null   int64  \n",
      " 10  말초동맥질환여부                1894 non-null   int64  \n",
      " 11  빈혈여부                    1894 non-null   int64  \n",
      " 12  성별                      1894 non-null   int64  \n",
      " 13  스테로이드치료                 1894 non-null   int64  \n",
      " 14  신부전여부                   1894 non-null   int64  \n",
      " 15  신장                      1894 non-null   int64  \n",
      " 16  심혈관질환                   1894 non-null   int64  \n",
      " 17  암발병여부                   1894 non-null   int64  \n",
      " 18  연령                      1894 non-null   int64  \n",
      " 19  우울증여부                   1894 non-null   int64  \n",
      " 20  입원기간                    1894 non-null   int64  \n",
      " 21  입원일자                    1894 non-null   int64  \n",
      " 22  종양진행여부                  1894 non-null   int64  \n",
      " 23  직업                      1479 non-null   object \n",
      " 24  체중                      1894 non-null   float64\n",
      " 25  퇴원일자                    1894 non-null   int64  \n",
      " 26  헤모글로빈수치                 1893 non-null   float64\n",
      " 27  혈전합병증여부                 1894 non-null   int64  \n",
      " 28  환자통증정도                  1894 non-null   int64  \n",
      " 29  흡연여부                    1894 non-null   int64  \n",
      " 30  통증기간(월)                 1890 non-null   float64\n",
      " 31  수술기법                    1813 non-null   object \n",
      " 32  수술시간                    1840 non-null   float64\n",
      " 33  수술실패여부                  1894 non-null   int64  \n",
      " 34  수술일자                    1894 non-null   int64  \n",
      " 35  재발여부                    1894 non-null   int64  \n",
      " 36  혈액형                     1894 non-null   object \n",
      " 37  전방디스크높이(mm)             1894 non-null   float64\n",
      " 38  후방디스크높이(mm)             1894 non-null   float64\n",
      " 39  지방축적도                   1891 non-null   float64\n",
      " 40  Instability             1894 non-null   int64  \n",
      " 41  MF + ES                 1894 non-null   float64\n",
      " 42  Modic change            1894 non-null   int64  \n",
      " 43  PI                      1890 non-null   float64\n",
      " 44  PT                      1890 non-null   float64\n",
      " 45  Seg Angle(raw)          1893 non-null   float64\n",
      " 46  Vaccum disc             1894 non-null   int64  \n",
      " 47  골밀도                     998 non-null    float64\n",
      " 48  디스크단면적                  1893 non-null   float64\n",
      " 49  디스크위치                   1894 non-null   int64  \n",
      " 50  척추이동척도                  1894 non-null   object \n",
      " 51  척추전방위증                  1894 non-null   int64  \n",
      "dtypes: float64(16), int64(31), object(5)\n",
      "memory usage: 769.6+ KB\n"
     ]
    }
   ],
   "source": [
    "df_ROS.info()"
   ]
  },
  {
   "cell_type": "markdown",
   "id": "1957efb2-21e8-49bb-a601-f58045fe5442",
   "metadata": {},
   "source": [
    "### quest4\n",
    "- 분석 제공 대상이 의사\n",
    "- 목표변수 : 수술시간\n",
    "- 설명 변수 지정 최소 5개 이상(범주형 과 연속형 섞여 있어야함)\n",
    "- DDA/README.md 작성 : 변수 설명/ 이유\n",
    "- 추출, 수술시간이 중앙값 이상인 것만 추출.\n",
    "- 요약 : 수술시간에 가장 영향을 주는 항목 3가지 확인\n"
   ]
  },
  {
   "cell_type": "code",
   "execution_count": 227,
   "id": "144ce3c5-3928-4b28-8fdc-1b8184c67f6c",
   "metadata": {
    "tags": []
   },
   "outputs": [
    {
     "data": {
      "text/plain": [
       "Index(['Unnamed: 0', '환자ID', 'Large Lymphocyte', 'Location of herniation',\n",
       "       'ODI', '가족력', '간질성폐질환', '고혈압여부', '과거수술횟수', '당뇨여부', '말초동맥질환여부', '빈혈여부',\n",
       "       '성별', '스테로이드치료', '신부전여부', '신장', '심혈관질환', '암발병여부', '연령', '우울증여부', '입원기간',\n",
       "       '입원일자', '종양진행여부', '직업', '체중', '퇴원일자', '헤모글로빈수치', '혈전합병증여부', '환자통증정도',\n",
       "       '흡연여부', '통증기간(월)', '수술기법', '수술시간', '수술실패여부', '수술일자', '재발여부', '혈액형',\n",
       "       '전방디스크높이(mm)', '후방디스크높이(mm)', '지방축적도', 'Instability', 'MF + ES',\n",
       "       'Modic change', 'PI', 'PT', 'Seg Angle(raw)', 'Vaccum disc', '골밀도',\n",
       "       '디스크단면적', '디스크위치', '척추이동척도', '척추전방위증'],\n",
       "      dtype='object')"
      ]
     },
     "execution_count": 227,
     "metadata": {},
     "output_type": "execute_result"
    }
   ],
   "source": [
    "df_ROS.columns"
   ]
  },
  {
   "cell_type": "code",
   "execution_count": 228,
   "id": "6aa1a9d6-f7fe-4319-bb9c-31318c3f4dc2",
   "metadata": {
    "tags": []
   },
   "outputs": [
    {
     "data": {
      "text/html": [
       "<div>\n",
       "<style scoped>\n",
       "    .dataframe tbody tr th:only-of-type {\n",
       "        vertical-align: middle;\n",
       "    }\n",
       "\n",
       "    .dataframe tbody tr th {\n",
       "        vertical-align: top;\n",
       "    }\n",
       "\n",
       "    .dataframe thead th {\n",
       "        text-align: right;\n",
       "    }\n",
       "</style>\n",
       "<table border=\"1\" class=\"dataframe\">\n",
       "  <thead>\n",
       "    <tr style=\"text-align: right;\">\n",
       "      <th></th>\n",
       "      <th>성별</th>\n",
       "      <th>신장</th>\n",
       "      <th>체중</th>\n",
       "      <th>흡연여부</th>\n",
       "      <th>직업</th>\n",
       "      <th>수술시간</th>\n",
       "    </tr>\n",
       "  </thead>\n",
       "  <tbody>\n",
       "    <tr>\n",
       "      <th>0</th>\n",
       "      <td>2</td>\n",
       "      <td>163</td>\n",
       "      <td>60.3</td>\n",
       "      <td>0</td>\n",
       "      <td>자영업</td>\n",
       "      <td>68.0</td>\n",
       "    </tr>\n",
       "    <tr>\n",
       "      <th>1</th>\n",
       "      <td>1</td>\n",
       "      <td>171</td>\n",
       "      <td>71.7</td>\n",
       "      <td>0</td>\n",
       "      <td>운동선수</td>\n",
       "      <td>31.0</td>\n",
       "    </tr>\n",
       "    <tr>\n",
       "      <th>2</th>\n",
       "      <td>1</td>\n",
       "      <td>178</td>\n",
       "      <td>77.1</td>\n",
       "      <td>0</td>\n",
       "      <td>특수전문직</td>\n",
       "      <td>78.0</td>\n",
       "    </tr>\n",
       "    <tr>\n",
       "      <th>3</th>\n",
       "      <td>1</td>\n",
       "      <td>174</td>\n",
       "      <td>74.2</td>\n",
       "      <td>0</td>\n",
       "      <td>주부</td>\n",
       "      <td>73.0</td>\n",
       "    </tr>\n",
       "    <tr>\n",
       "      <th>4</th>\n",
       "      <td>1</td>\n",
       "      <td>183</td>\n",
       "      <td>80.7</td>\n",
       "      <td>0</td>\n",
       "      <td>특수전문직</td>\n",
       "      <td>29.0</td>\n",
       "    </tr>\n",
       "    <tr>\n",
       "      <th>...</th>\n",
       "      <td>...</td>\n",
       "      <td>...</td>\n",
       "      <td>...</td>\n",
       "      <td>...</td>\n",
       "      <td>...</td>\n",
       "      <td>...</td>\n",
       "    </tr>\n",
       "    <tr>\n",
       "      <th>1889</th>\n",
       "      <td>2</td>\n",
       "      <td>157</td>\n",
       "      <td>64.0</td>\n",
       "      <td>0</td>\n",
       "      <td>무직</td>\n",
       "      <td>80.0</td>\n",
       "    </tr>\n",
       "    <tr>\n",
       "      <th>1890</th>\n",
       "      <td>2</td>\n",
       "      <td>157</td>\n",
       "      <td>59.0</td>\n",
       "      <td>0</td>\n",
       "      <td>사무직</td>\n",
       "      <td>20.0</td>\n",
       "    </tr>\n",
       "    <tr>\n",
       "      <th>1891</th>\n",
       "      <td>1</td>\n",
       "      <td>167</td>\n",
       "      <td>70.0</td>\n",
       "      <td>0</td>\n",
       "      <td>무직</td>\n",
       "      <td>50.0</td>\n",
       "    </tr>\n",
       "    <tr>\n",
       "      <th>1892</th>\n",
       "      <td>1</td>\n",
       "      <td>177</td>\n",
       "      <td>77.0</td>\n",
       "      <td>0</td>\n",
       "      <td>사무직</td>\n",
       "      <td>25.0</td>\n",
       "    </tr>\n",
       "    <tr>\n",
       "      <th>1893</th>\n",
       "      <td>2</td>\n",
       "      <td>168</td>\n",
       "      <td>49.0</td>\n",
       "      <td>0</td>\n",
       "      <td>사무직</td>\n",
       "      <td>45.0</td>\n",
       "    </tr>\n",
       "  </tbody>\n",
       "</table>\n",
       "<p>1894 rows × 6 columns</p>\n",
       "</div>"
      ],
      "text/plain": [
       "      성별   신장    체중  흡연여부     직업  수술시간\n",
       "0      2  163  60.3     0    자영업  68.0\n",
       "1      1  171  71.7     0   운동선수  31.0\n",
       "2      1  178  77.1     0  특수전문직  78.0\n",
       "3      1  174  74.2     0     주부  73.0\n",
       "4      1  183  80.7     0  특수전문직  29.0\n",
       "...   ..  ...   ...   ...    ...   ...\n",
       "1889   2  157  64.0     0     무직  80.0\n",
       "1890   2  157  59.0     0    사무직  20.0\n",
       "1891   1  167  70.0     0     무직  50.0\n",
       "1892   1  177  77.0     0    사무직  25.0\n",
       "1893   2  168  49.0     0    사무직  45.0\n",
       "\n",
       "[1894 rows x 6 columns]"
      ]
     },
     "execution_count": 228,
     "metadata": {},
     "output_type": "execute_result"
    }
   ],
   "source": [
    "df_ROS_forpatient = df_ROS[['성별', '신장', '체중', '흡연여부', '직업','수술시간']]\n",
    "df_ROS_forpatient"
   ]
  },
  {
   "cell_type": "code",
   "execution_count": 229,
   "id": "209210dd-3281-4531-883e-868be16d4c9a",
   "metadata": {
    "tags": []
   },
   "outputs": [
    {
     "data": {
      "text/html": [
       "<div>\n",
       "<style scoped>\n",
       "    .dataframe tbody tr th:only-of-type {\n",
       "        vertical-align: middle;\n",
       "    }\n",
       "\n",
       "    .dataframe tbody tr th {\n",
       "        vertical-align: top;\n",
       "    }\n",
       "\n",
       "    .dataframe thead th {\n",
       "        text-align: right;\n",
       "    }\n",
       "</style>\n",
       "<table border=\"1\" class=\"dataframe\">\n",
       "  <thead>\n",
       "    <tr style=\"text-align: right;\">\n",
       "      <th></th>\n",
       "      <th>성별</th>\n",
       "      <th>신장</th>\n",
       "      <th>체중</th>\n",
       "      <th>흡연여부</th>\n",
       "      <th>수술시간</th>\n",
       "    </tr>\n",
       "  </thead>\n",
       "  <tbody>\n",
       "    <tr>\n",
       "      <th>count</th>\n",
       "      <td>1894.000000</td>\n",
       "      <td>1894.000000</td>\n",
       "      <td>1894.000000</td>\n",
       "      <td>1894.000000</td>\n",
       "      <td>1840.000000</td>\n",
       "    </tr>\n",
       "    <tr>\n",
       "      <th>mean</th>\n",
       "      <td>1.383316</td>\n",
       "      <td>168.027983</td>\n",
       "      <td>68.111140</td>\n",
       "      <td>0.217001</td>\n",
       "      <td>62.066304</td>\n",
       "    </tr>\n",
       "    <tr>\n",
       "      <th>std</th>\n",
       "      <td>0.486323</td>\n",
       "      <td>9.211419</td>\n",
       "      <td>11.234318</td>\n",
       "      <td>0.412312</td>\n",
       "      <td>24.994615</td>\n",
       "    </tr>\n",
       "    <tr>\n",
       "      <th>min</th>\n",
       "      <td>1.000000</td>\n",
       "      <td>140.000000</td>\n",
       "      <td>35.000000</td>\n",
       "      <td>0.000000</td>\n",
       "      <td>5.000000</td>\n",
       "    </tr>\n",
       "    <tr>\n",
       "      <th>25%</th>\n",
       "      <td>1.000000</td>\n",
       "      <td>161.000000</td>\n",
       "      <td>59.700000</td>\n",
       "      <td>0.000000</td>\n",
       "      <td>45.000000</td>\n",
       "    </tr>\n",
       "    <tr>\n",
       "      <th>50%</th>\n",
       "      <td>1.000000</td>\n",
       "      <td>169.000000</td>\n",
       "      <td>68.000000</td>\n",
       "      <td>0.000000</td>\n",
       "      <td>60.000000</td>\n",
       "    </tr>\n",
       "    <tr>\n",
       "      <th>75%</th>\n",
       "      <td>2.000000</td>\n",
       "      <td>175.000000</td>\n",
       "      <td>75.000000</td>\n",
       "      <td>0.000000</td>\n",
       "      <td>77.000000</td>\n",
       "    </tr>\n",
       "    <tr>\n",
       "      <th>max</th>\n",
       "      <td>2.000000</td>\n",
       "      <td>204.000000</td>\n",
       "      <td>136.100000</td>\n",
       "      <td>1.000000</td>\n",
       "      <td>220.000000</td>\n",
       "    </tr>\n",
       "  </tbody>\n",
       "</table>\n",
       "</div>"
      ],
      "text/plain": [
       "                성별           신장           체중         흡연여부         수술시간\n",
       "count  1894.000000  1894.000000  1894.000000  1894.000000  1840.000000\n",
       "mean      1.383316   168.027983    68.111140     0.217001    62.066304\n",
       "std       0.486323     9.211419    11.234318     0.412312    24.994615\n",
       "min       1.000000   140.000000    35.000000     0.000000     5.000000\n",
       "25%       1.000000   161.000000    59.700000     0.000000    45.000000\n",
       "50%       1.000000   169.000000    68.000000     0.000000    60.000000\n",
       "75%       2.000000   175.000000    75.000000     0.000000    77.000000\n",
       "max       2.000000   204.000000   136.100000     1.000000   220.000000"
      ]
     },
     "execution_count": 229,
     "metadata": {},
     "output_type": "execute_result"
    }
   ],
   "source": [
    "df_ROS_forpatient.describe()"
   ]
  },
  {
   "cell_type": "code",
   "execution_count": 230,
   "id": "cbf48cec-3452-4719-a9dd-b2c419d57120",
   "metadata": {
    "tags": []
   },
   "outputs": [
    {
     "name": "stdout",
     "output_type": "stream",
     "text": [
      "<class 'pandas.core.frame.DataFrame'>\n",
      "RangeIndex: 1894 entries, 0 to 1893\n",
      "Data columns (total 6 columns):\n",
      " #   Column  Non-Null Count  Dtype  \n",
      "---  ------  --------------  -----  \n",
      " 0   성별      1894 non-null   int64  \n",
      " 1   신장      1894 non-null   int64  \n",
      " 2   체중      1894 non-null   float64\n",
      " 3   흡연여부    1894 non-null   int64  \n",
      " 4   직업      1479 non-null   object \n",
      " 5   수술시간    1840 non-null   float64\n",
      "dtypes: float64(2), int64(3), object(1)\n",
      "memory usage: 88.9+ KB\n"
     ]
    }
   ],
   "source": [
    "df_ROS_forpatient.info()"
   ]
  },
  {
   "cell_type": "markdown",
   "id": "c9d4fe7d-461d-4675-b8ec-21da5a1f5e0a",
   "metadata": {},
   "source": [
    "## 성별에 따른 수술시간 데이터 분석"
   ]
  },
  {
   "cell_type": "code",
   "execution_count": 231,
   "id": "70fb2a03-4bc1-4801-b049-816a1db2033e",
   "metadata": {
    "tags": []
   },
   "outputs": [
    {
     "data": {
      "text/plain": [
       "성별       1.000000\n",
       "수술시간    61.856014\n",
       "dtype: float64"
      ]
     },
     "execution_count": 231,
     "metadata": {},
     "output_type": "execute_result"
    }
   ],
   "source": [
    "df_ROS_gender = df_ROS_forpatient[['성별', '수술시간']]\n",
    "df_ROS_gender[df_ROS_forpatient['성별'] == 1].mean()"
   ]
  },
  {
   "cell_type": "code",
   "execution_count": 232,
   "id": "2649cbd8-6375-4d8e-9962-5466ee7fdfc0",
   "metadata": {
    "tags": []
   },
   "outputs": [
    {
     "data": {
      "text/plain": [
       "성별       2.000000\n",
       "수술시간    62.407989\n",
       "dtype: float64"
      ]
     },
     "execution_count": 232,
     "metadata": {},
     "output_type": "execute_result"
    }
   ],
   "source": [
    "df_ROS_gender = df_ROS_forpatient[['성별', '수술시간']]\n",
    "df_ROS_gender[df_ROS_forpatient['성별'] == 2].mean()"
   ]
  },
  {
   "cell_type": "code",
   "execution_count": 233,
   "id": "8486a32f-a98a-4603-bfa2-edb8a6f38408",
   "metadata": {
    "tags": []
   },
   "outputs": [
    {
     "data": {
      "text/html": [
       "<div>\n",
       "<style scoped>\n",
       "    .dataframe tbody tr th:only-of-type {\n",
       "        vertical-align: middle;\n",
       "    }\n",
       "\n",
       "    .dataframe tbody tr th {\n",
       "        vertical-align: top;\n",
       "    }\n",
       "\n",
       "    .dataframe thead th {\n",
       "        text-align: right;\n",
       "    }\n",
       "</style>\n",
       "<table border=\"1\" class=\"dataframe\">\n",
       "  <thead>\n",
       "    <tr style=\"text-align: right;\">\n",
       "      <th></th>\n",
       "      <th>수술시간</th>\n",
       "    </tr>\n",
       "    <tr>\n",
       "      <th>성별</th>\n",
       "      <th></th>\n",
       "    </tr>\n",
       "  </thead>\n",
       "  <tbody>\n",
       "    <tr>\n",
       "      <th>1</th>\n",
       "      <td>61.856014</td>\n",
       "    </tr>\n",
       "    <tr>\n",
       "      <th>2</th>\n",
       "      <td>62.407989</td>\n",
       "    </tr>\n",
       "  </tbody>\n",
       "</table>\n",
       "</div>"
      ],
      "text/plain": [
       "         수술시간\n",
       "성별           \n",
       "1   61.856014\n",
       "2   62.407989"
      ]
     },
     "execution_count": 233,
     "metadata": {},
     "output_type": "execute_result"
    }
   ],
   "source": [
    "df_ROS_gender = df_ROS_gender.pivot_table(index='성별', values='수술시간', aggfunc=np.mean)\n",
    "df_ROS_gender"
   ]
  },
  {
   "cell_type": "markdown",
   "id": "968c3779-10e9-4ef4-989a-5ad8b9de2ff2",
   "metadata": {},
   "source": [
    "## 흡연 여부에 따른 데이터 분석"
   ]
  },
  {
   "cell_type": "code",
   "execution_count": 234,
   "id": "8c5e94fc-bc20-4823-8801-8660ef5604ef",
   "metadata": {
    "tags": []
   },
   "outputs": [
    {
     "data": {
      "text/plain": [
       "흡연여부     0.000000\n",
       "수술시간    62.361554\n",
       "dtype: float64"
      ]
     },
     "execution_count": 234,
     "metadata": {},
     "output_type": "execute_result"
    }
   ],
   "source": [
    "df_ROS_smoke = df_ROS_forpatient[['흡연여부', '수술시간']]\n",
    "df_ROS_smoke[df_ROS_forpatient['흡연여부'] == 0].mean()"
   ]
  },
  {
   "cell_type": "code",
   "execution_count": 235,
   "id": "a8a34ce8-22cd-42aa-9996-8c55e401b7c9",
   "metadata": {
    "tags": []
   },
   "outputs": [
    {
     "data": {
      "text/plain": [
       "흡연여부     1.0\n",
       "수술시간    61.0\n",
       "dtype: float64"
      ]
     },
     "execution_count": 235,
     "metadata": {},
     "output_type": "execute_result"
    }
   ],
   "source": [
    "df_ROS_smoke = df_ROS_forpatient[['흡연여부', '수술시간']]\n",
    "df_ROS_smoke[df_ROS_forpatient['흡연여부'] == 1].mean()"
   ]
  },
  {
   "cell_type": "code",
   "execution_count": 236,
   "id": "419e5de9-d664-4f66-b9e6-9c248b779efc",
   "metadata": {
    "tags": []
   },
   "outputs": [
    {
     "data": {
      "text/html": [
       "<div>\n",
       "<style scoped>\n",
       "    .dataframe tbody tr th:only-of-type {\n",
       "        vertical-align: middle;\n",
       "    }\n",
       "\n",
       "    .dataframe tbody tr th {\n",
       "        vertical-align: top;\n",
       "    }\n",
       "\n",
       "    .dataframe thead th {\n",
       "        text-align: right;\n",
       "    }\n",
       "</style>\n",
       "<table border=\"1\" class=\"dataframe\">\n",
       "  <thead>\n",
       "    <tr style=\"text-align: right;\">\n",
       "      <th></th>\n",
       "      <th>수술시간</th>\n",
       "    </tr>\n",
       "    <tr>\n",
       "      <th>흡연여부</th>\n",
       "      <th></th>\n",
       "    </tr>\n",
       "  </thead>\n",
       "  <tbody>\n",
       "    <tr>\n",
       "      <th>0</th>\n",
       "      <td>62.361554</td>\n",
       "    </tr>\n",
       "    <tr>\n",
       "      <th>1</th>\n",
       "      <td>61.000000</td>\n",
       "    </tr>\n",
       "  </tbody>\n",
       "</table>\n",
       "</div>"
      ],
      "text/plain": [
       "           수술시간\n",
       "흡연여부           \n",
       "0     62.361554\n",
       "1     61.000000"
      ]
     },
     "execution_count": 236,
     "metadata": {},
     "output_type": "execute_result"
    }
   ],
   "source": [
    "df_ROS_smoke = df_ROS_smoke.pivot_table(index='흡연여부', values='수술시간', aggfunc=np.mean)\n",
    "df_ROS_smoke"
   ]
  },
  {
   "cell_type": "markdown",
   "id": "880d500f-1633-4846-ac31-b034810581c7",
   "metadata": {},
   "source": [
    "## 신장 크기에 따른 수술시간 데이터 분석"
   ]
  },
  {
   "cell_type": "code",
   "execution_count": 237,
   "id": "801a9fa2-4841-413b-a3e6-195292b876ef",
   "metadata": {
    "tags": []
   },
   "outputs": [
    {
     "data": {
      "text/plain": [
       "168.02798310454065"
      ]
     },
     "execution_count": 237,
     "metadata": {},
     "output_type": "execute_result"
    }
   ],
   "source": [
    "df_ROS_forpatient['신장'].mean()"
   ]
  },
  {
   "cell_type": "code",
   "execution_count": 238,
   "id": "fad1fc15-e35f-4982-9167-b25d5e9e843d",
   "metadata": {
    "tags": []
   },
   "outputs": [
    {
     "data": {
      "text/html": [
       "<div>\n",
       "<style scoped>\n",
       "    .dataframe tbody tr th:only-of-type {\n",
       "        vertical-align: middle;\n",
       "    }\n",
       "\n",
       "    .dataframe tbody tr th {\n",
       "        vertical-align: top;\n",
       "    }\n",
       "\n",
       "    .dataframe thead th {\n",
       "        text-align: right;\n",
       "    }\n",
       "</style>\n",
       "<table border=\"1\" class=\"dataframe\">\n",
       "  <thead>\n",
       "    <tr style=\"text-align: right;\">\n",
       "      <th></th>\n",
       "      <th>수술시간</th>\n",
       "    </tr>\n",
       "  </thead>\n",
       "  <tbody>\n",
       "    <tr>\n",
       "      <th>168cm 미만</th>\n",
       "      <td>60.983202</td>\n",
       "    </tr>\n",
       "  </tbody>\n",
       "</table>\n",
       "</div>"
      ],
      "text/plain": [
       "               수술시간\n",
       "168cm 미만  60.983202"
      ]
     },
     "execution_count": 238,
     "metadata": {},
     "output_type": "execute_result"
    }
   ],
   "source": [
    "df_ROS_height = df_ROS_forpatient[['수술시간']]\n",
    "df_ROS_height_1 = df_ROS_height[df_ROS_forpatient['신장'] >= 168].mean()\n",
    "df_ROS_height_1 = pd.DataFrame(df_ROS_height_1, columns=['168cm 미만']).transpose()\n",
    "df_ROS_height_1"
   ]
  },
  {
   "cell_type": "code",
   "execution_count": 239,
   "id": "9f26b69d-5643-4e6c-aae5-dcc423ffbe3d",
   "metadata": {
    "tags": []
   },
   "outputs": [
    {
     "data": {
      "text/html": [
       "<div>\n",
       "<style scoped>\n",
       "    .dataframe tbody tr th:only-of-type {\n",
       "        vertical-align: middle;\n",
       "    }\n",
       "\n",
       "    .dataframe tbody tr th {\n",
       "        vertical-align: top;\n",
       "    }\n",
       "\n",
       "    .dataframe thead th {\n",
       "        text-align: right;\n",
       "    }\n",
       "</style>\n",
       "<table border=\"1\" class=\"dataframe\">\n",
       "  <thead>\n",
       "    <tr style=\"text-align: right;\">\n",
       "      <th></th>\n",
       "      <th>수술시간</th>\n",
       "    </tr>\n",
       "  </thead>\n",
       "  <tbody>\n",
       "    <tr>\n",
       "      <th>168cm 이상</th>\n",
       "      <td>63.390097</td>\n",
       "    </tr>\n",
       "  </tbody>\n",
       "</table>\n",
       "</div>"
      ],
      "text/plain": [
       "               수술시간\n",
       "168cm 이상  63.390097"
      ]
     },
     "execution_count": 239,
     "metadata": {},
     "output_type": "execute_result"
    }
   ],
   "source": [
    "df_ROS_height = df_ROS_forpatient[['수술시간']]\n",
    "df_ROS_height_2 = df_ROS_height[df_ROS_forpatient['신장'] < 168].mean()\n",
    "df_ROS_height_2 = pd.DataFrame(df_ROS_height_2, columns=['168cm 이상']).transpose()\n",
    "df_ROS_height_2"
   ]
  },
  {
   "cell_type": "code",
   "execution_count": 240,
   "id": "3b50da53-ac28-426a-8cf3-516d59f0e3ce",
   "metadata": {
    "tags": []
   },
   "outputs": [
    {
     "data": {
      "text/html": [
       "<div>\n",
       "<style scoped>\n",
       "    .dataframe tbody tr th:only-of-type {\n",
       "        vertical-align: middle;\n",
       "    }\n",
       "\n",
       "    .dataframe tbody tr th {\n",
       "        vertical-align: top;\n",
       "    }\n",
       "\n",
       "    .dataframe thead th {\n",
       "        text-align: right;\n",
       "    }\n",
       "</style>\n",
       "<table border=\"1\" class=\"dataframe\">\n",
       "  <thead>\n",
       "    <tr style=\"text-align: right;\">\n",
       "      <th></th>\n",
       "      <th>수술시간</th>\n",
       "    </tr>\n",
       "  </thead>\n",
       "  <tbody>\n",
       "    <tr>\n",
       "      <th>168cm 미만</th>\n",
       "      <td>60.983202</td>\n",
       "    </tr>\n",
       "    <tr>\n",
       "      <th>168cm 이상</th>\n",
       "      <td>63.390097</td>\n",
       "    </tr>\n",
       "  </tbody>\n",
       "</table>\n",
       "</div>"
      ],
      "text/plain": [
       "               수술시간\n",
       "168cm 미만  60.983202\n",
       "168cm 이상  63.390097"
      ]
     },
     "execution_count": 240,
     "metadata": {},
     "output_type": "execute_result"
    }
   ],
   "source": [
    "df_ROS_height = pd.concat([df_ROS_height_1, df_ROS_height_2])\n",
    "df_ROS_height"
   ]
  },
  {
   "cell_type": "markdown",
   "id": "ddfb946a-a5d1-4432-be65-e15f6d384246",
   "metadata": {},
   "source": [
    "## 체중에 따른 수술시간 데이터 분석"
   ]
  },
  {
   "cell_type": "code",
   "execution_count": 241,
   "id": "e05a2c97-0dce-4676-a888-cb4bee7a6f3a",
   "metadata": {
    "tags": []
   },
   "outputs": [
    {
     "data": {
      "text/plain": [
       "68.1111404435058"
      ]
     },
     "execution_count": 241,
     "metadata": {},
     "output_type": "execute_result"
    }
   ],
   "source": [
    "df_ROS_forpatient['체중'].mean()"
   ]
  },
  {
   "cell_type": "code",
   "execution_count": 242,
   "id": "40260766-83e5-4e7f-a534-26c81ae881ca",
   "metadata": {
    "tags": []
   },
   "outputs": [
    {
     "data": {
      "text/html": [
       "<div>\n",
       "<style scoped>\n",
       "    .dataframe tbody tr th:only-of-type {\n",
       "        vertical-align: middle;\n",
       "    }\n",
       "\n",
       "    .dataframe tbody tr th {\n",
       "        vertical-align: top;\n",
       "    }\n",
       "\n",
       "    .dataframe thead th {\n",
       "        text-align: right;\n",
       "    }\n",
       "</style>\n",
       "<table border=\"1\" class=\"dataframe\">\n",
       "  <thead>\n",
       "    <tr style=\"text-align: right;\">\n",
       "      <th></th>\n",
       "      <th>수술시간</th>\n",
       "    </tr>\n",
       "  </thead>\n",
       "  <tbody>\n",
       "    <tr>\n",
       "      <th>68kg 이상</th>\n",
       "      <td>62.427027</td>\n",
       "    </tr>\n",
       "  </tbody>\n",
       "</table>\n",
       "</div>"
      ],
      "text/plain": [
       "              수술시간\n",
       "68kg 이상  62.427027"
      ]
     },
     "execution_count": 242,
     "metadata": {},
     "output_type": "execute_result"
    }
   ],
   "source": [
    "df_ROS_weight = df_ROS_forpatient[['수술시간']]\n",
    "df_ROS_weight_1 = df_ROS_weight[df_ROS_forpatient['체중'] >= 68].mean()\n",
    "df_ROS_weight_1 = pd.DataFrame(df_ROS_weight_1, columns=['68kg 이상']).transpose()\n",
    "df_ROS_weight_1"
   ]
  },
  {
   "cell_type": "code",
   "execution_count": 243,
   "id": "4c163c5d-4db2-47b7-b103-450953135467",
   "metadata": {
    "tags": []
   },
   "outputs": [
    {
     "data": {
      "text/html": [
       "<div>\n",
       "<style scoped>\n",
       "    .dataframe tbody tr th:only-of-type {\n",
       "        vertical-align: middle;\n",
       "    }\n",
       "\n",
       "    .dataframe tbody tr th {\n",
       "        vertical-align: top;\n",
       "    }\n",
       "\n",
       "    .dataframe thead th {\n",
       "        text-align: right;\n",
       "    }\n",
       "</style>\n",
       "<table border=\"1\" class=\"dataframe\">\n",
       "  <thead>\n",
       "    <tr style=\"text-align: right;\">\n",
       "      <th></th>\n",
       "      <th>수술시간</th>\n",
       "    </tr>\n",
       "  </thead>\n",
       "  <tbody>\n",
       "    <tr>\n",
       "      <th>68kg 미만</th>\n",
       "      <td>61.701639</td>\n",
       "    </tr>\n",
       "  </tbody>\n",
       "</table>\n",
       "</div>"
      ],
      "text/plain": [
       "              수술시간\n",
       "68kg 미만  61.701639"
      ]
     },
     "execution_count": 243,
     "metadata": {},
     "output_type": "execute_result"
    }
   ],
   "source": [
    "df_ROS_weight = df_ROS_forpatient[['수술시간']]\n",
    "df_ROS_weight_2 = df_ROS_weight[df_ROS_forpatient['체중'] < 68].mean()\n",
    "df_ROS_weight_2 = pd.DataFrame(df_ROS_weight_2, columns=['68kg 미만']).transpose()\n",
    "df_ROS_weight_2"
   ]
  },
  {
   "cell_type": "code",
   "execution_count": 244,
   "id": "0d6ed03f-9e05-425f-a4fe-454f3ca48b5e",
   "metadata": {
    "tags": []
   },
   "outputs": [
    {
     "data": {
      "text/html": [
       "<div>\n",
       "<style scoped>\n",
       "    .dataframe tbody tr th:only-of-type {\n",
       "        vertical-align: middle;\n",
       "    }\n",
       "\n",
       "    .dataframe tbody tr th {\n",
       "        vertical-align: top;\n",
       "    }\n",
       "\n",
       "    .dataframe thead th {\n",
       "        text-align: right;\n",
       "    }\n",
       "</style>\n",
       "<table border=\"1\" class=\"dataframe\">\n",
       "  <thead>\n",
       "    <tr style=\"text-align: right;\">\n",
       "      <th></th>\n",
       "      <th>수술시간</th>\n",
       "    </tr>\n",
       "  </thead>\n",
       "  <tbody>\n",
       "    <tr>\n",
       "      <th>68kg 이상</th>\n",
       "      <td>62.427027</td>\n",
       "    </tr>\n",
       "    <tr>\n",
       "      <th>68kg 미만</th>\n",
       "      <td>61.701639</td>\n",
       "    </tr>\n",
       "  </tbody>\n",
       "</table>\n",
       "</div>"
      ],
      "text/plain": [
       "              수술시간\n",
       "68kg 이상  62.427027\n",
       "68kg 미만  61.701639"
      ]
     },
     "execution_count": 244,
     "metadata": {},
     "output_type": "execute_result"
    }
   ],
   "source": [
    "df_ROS_weight = pd.concat([df_ROS_weight_1, df_ROS_weight_2])\n",
    "df_ROS_weight"
   ]
  },
  {
   "cell_type": "markdown",
   "id": "4a63e3e5-3baf-4bdb-86bb-64ca26e45c6d",
   "metadata": {},
   "source": [
    "## 직업에 따른 수술시간 데이터 분석"
   ]
  },
  {
   "cell_type": "code",
   "execution_count": 245,
   "id": "fb57fd6c-6bdf-40c1-8296-30099b806fd3",
   "metadata": {
    "tags": []
   },
   "outputs": [
    {
     "data": {
      "text/html": [
       "<div>\n",
       "<style scoped>\n",
       "    .dataframe tbody tr th:only-of-type {\n",
       "        vertical-align: middle;\n",
       "    }\n",
       "\n",
       "    .dataframe tbody tr th {\n",
       "        vertical-align: top;\n",
       "    }\n",
       "\n",
       "    .dataframe thead th {\n",
       "        text-align: right;\n",
       "    }\n",
       "</style>\n",
       "<table border=\"1\" class=\"dataframe\">\n",
       "  <thead>\n",
       "    <tr style=\"text-align: right;\">\n",
       "      <th></th>\n",
       "      <th>수술시간</th>\n",
       "    </tr>\n",
       "    <tr>\n",
       "      <th>직업</th>\n",
       "      <th></th>\n",
       "    </tr>\n",
       "  </thead>\n",
       "  <tbody>\n",
       "    <tr>\n",
       "      <th>건설업</th>\n",
       "      <td>58.647059</td>\n",
       "    </tr>\n",
       "    <tr>\n",
       "      <th>공무원</th>\n",
       "      <td>65.448980</td>\n",
       "    </tr>\n",
       "    <tr>\n",
       "      <th>교사</th>\n",
       "      <td>64.250000</td>\n",
       "    </tr>\n",
       "    <tr>\n",
       "      <th>군인</th>\n",
       "      <td>62.022989</td>\n",
       "    </tr>\n",
       "    <tr>\n",
       "      <th>노동직</th>\n",
       "      <td>65.738095</td>\n",
       "    </tr>\n",
       "    <tr>\n",
       "      <th>농업</th>\n",
       "      <td>75.102564</td>\n",
       "    </tr>\n",
       "    <tr>\n",
       "      <th>무직</th>\n",
       "      <td>54.814815</td>\n",
       "    </tr>\n",
       "    <tr>\n",
       "      <th>사무직</th>\n",
       "      <td>61.543379</td>\n",
       "    </tr>\n",
       "    <tr>\n",
       "      <th>사업가</th>\n",
       "      <td>64.131579</td>\n",
       "    </tr>\n",
       "    <tr>\n",
       "      <th>예술가</th>\n",
       "      <td>54.900000</td>\n",
       "    </tr>\n",
       "    <tr>\n",
       "      <th>운동선수</th>\n",
       "      <td>50.857143</td>\n",
       "    </tr>\n",
       "    <tr>\n",
       "      <th>운수업</th>\n",
       "      <td>61.980000</td>\n",
       "    </tr>\n",
       "    <tr>\n",
       "      <th>의료직</th>\n",
       "      <td>60.972973</td>\n",
       "    </tr>\n",
       "    <tr>\n",
       "      <th>자영업</th>\n",
       "      <td>60.173653</td>\n",
       "    </tr>\n",
       "    <tr>\n",
       "      <th>주부</th>\n",
       "      <td>57.881818</td>\n",
       "    </tr>\n",
       "    <tr>\n",
       "      <th>특수전문직</th>\n",
       "      <td>64.000000</td>\n",
       "    </tr>\n",
       "    <tr>\n",
       "      <th>학생</th>\n",
       "      <td>62.640625</td>\n",
       "    </tr>\n",
       "  </tbody>\n",
       "</table>\n",
       "</div>"
      ],
      "text/plain": [
       "            수술시간\n",
       "직업              \n",
       "건설업    58.647059\n",
       "공무원    65.448980\n",
       "교사     64.250000\n",
       "군인     62.022989\n",
       "노동직    65.738095\n",
       "농업     75.102564\n",
       "무직     54.814815\n",
       "사무직    61.543379\n",
       "사업가    64.131579\n",
       "예술가    54.900000\n",
       "운동선수   50.857143\n",
       "운수업    61.980000\n",
       "의료직    60.972973\n",
       "자영업    60.173653\n",
       "주부     57.881818\n",
       "특수전문직  64.000000\n",
       "학생     62.640625"
      ]
     },
     "execution_count": 245,
     "metadata": {},
     "output_type": "execute_result"
    }
   ],
   "source": [
    "pd.pivot_table(df_ROS_forpatient[['직업', '수술시간']], index=['직업'], values=['수술시간'], aggfunc=np.mean)"
   ]
  },
  {
   "cell_type": "code",
   "execution_count": 246,
   "id": "794df15c-3ccc-4e96-b318-9239819eb835",
   "metadata": {
    "tags": []
   },
   "outputs": [],
   "source": [
    "## 최대 수술시간인 직업 및 시간"
   ]
  },
  {
   "cell_type": "code",
   "execution_count": 247,
   "id": "f09f3584-61b9-4bef-b115-f664fe7b08e3",
   "metadata": {
    "tags": []
   },
   "outputs": [
    {
     "data": {
      "text/html": [
       "<div>\n",
       "<style scoped>\n",
       "    .dataframe tbody tr th:only-of-type {\n",
       "        vertical-align: middle;\n",
       "    }\n",
       "\n",
       "    .dataframe tbody tr th {\n",
       "        vertical-align: top;\n",
       "    }\n",
       "\n",
       "    .dataframe thead th {\n",
       "        text-align: right;\n",
       "    }\n",
       "</style>\n",
       "<table border=\"1\" class=\"dataframe\">\n",
       "  <thead>\n",
       "    <tr style=\"text-align: right;\">\n",
       "      <th></th>\n",
       "      <th>수술시간</th>\n",
       "    </tr>\n",
       "    <tr>\n",
       "      <th>직업</th>\n",
       "      <th></th>\n",
       "    </tr>\n",
       "  </thead>\n",
       "  <tbody>\n",
       "    <tr>\n",
       "      <th>건설업</th>\n",
       "      <td>58.647059</td>\n",
       "    </tr>\n",
       "    <tr>\n",
       "      <th>공무원</th>\n",
       "      <td>65.448980</td>\n",
       "    </tr>\n",
       "    <tr>\n",
       "      <th>교사</th>\n",
       "      <td>64.250000</td>\n",
       "    </tr>\n",
       "    <tr>\n",
       "      <th>군인</th>\n",
       "      <td>62.022989</td>\n",
       "    </tr>\n",
       "    <tr>\n",
       "      <th>노동직</th>\n",
       "      <td>65.738095</td>\n",
       "    </tr>\n",
       "    <tr>\n",
       "      <th>농업</th>\n",
       "      <td>75.102564</td>\n",
       "    </tr>\n",
       "    <tr>\n",
       "      <th>무직</th>\n",
       "      <td>54.814815</td>\n",
       "    </tr>\n",
       "    <tr>\n",
       "      <th>사무직</th>\n",
       "      <td>61.543379</td>\n",
       "    </tr>\n",
       "    <tr>\n",
       "      <th>사업가</th>\n",
       "      <td>64.131579</td>\n",
       "    </tr>\n",
       "    <tr>\n",
       "      <th>예술가</th>\n",
       "      <td>54.900000</td>\n",
       "    </tr>\n",
       "    <tr>\n",
       "      <th>운동선수</th>\n",
       "      <td>50.857143</td>\n",
       "    </tr>\n",
       "    <tr>\n",
       "      <th>운수업</th>\n",
       "      <td>61.980000</td>\n",
       "    </tr>\n",
       "    <tr>\n",
       "      <th>의료직</th>\n",
       "      <td>60.972973</td>\n",
       "    </tr>\n",
       "    <tr>\n",
       "      <th>자영업</th>\n",
       "      <td>60.173653</td>\n",
       "    </tr>\n",
       "    <tr>\n",
       "      <th>주부</th>\n",
       "      <td>57.881818</td>\n",
       "    </tr>\n",
       "    <tr>\n",
       "      <th>특수전문직</th>\n",
       "      <td>64.000000</td>\n",
       "    </tr>\n",
       "    <tr>\n",
       "      <th>학생</th>\n",
       "      <td>62.640625</td>\n",
       "    </tr>\n",
       "  </tbody>\n",
       "</table>\n",
       "</div>"
      ],
      "text/plain": [
       "            수술시간\n",
       "직업              \n",
       "건설업    58.647059\n",
       "공무원    65.448980\n",
       "교사     64.250000\n",
       "군인     62.022989\n",
       "노동직    65.738095\n",
       "농업     75.102564\n",
       "무직     54.814815\n",
       "사무직    61.543379\n",
       "사업가    64.131579\n",
       "예술가    54.900000\n",
       "운동선수   50.857143\n",
       "운수업    61.980000\n",
       "의료직    60.972973\n",
       "자영업    60.173653\n",
       "주부     57.881818\n",
       "특수전문직  64.000000\n",
       "학생     62.640625"
      ]
     },
     "execution_count": 247,
     "metadata": {},
     "output_type": "execute_result"
    }
   ],
   "source": [
    "df_ROS_job = pd.pivot_table(df_ROS_forpatient[['직업', '수술시간']], index=['직업'], values=['수술시간'], aggfunc=np.mean)\n",
    "df_ROS_job"
   ]
  },
  {
   "cell_type": "code",
   "execution_count": 248,
   "id": "3fa50300-d454-4ee0-9639-9064ae4dbe43",
   "metadata": {
    "tags": []
   },
   "outputs": [
    {
     "data": {
      "text/html": [
       "<div>\n",
       "<style scoped>\n",
       "    .dataframe tbody tr th:only-of-type {\n",
       "        vertical-align: middle;\n",
       "    }\n",
       "\n",
       "    .dataframe tbody tr th {\n",
       "        vertical-align: top;\n",
       "    }\n",
       "\n",
       "    .dataframe thead th {\n",
       "        text-align: right;\n",
       "    }\n",
       "</style>\n",
       "<table border=\"1\" class=\"dataframe\">\n",
       "  <thead>\n",
       "    <tr style=\"text-align: right;\">\n",
       "      <th></th>\n",
       "      <th>수술시간</th>\n",
       "    </tr>\n",
       "    <tr>\n",
       "      <th>직업</th>\n",
       "      <th></th>\n",
       "    </tr>\n",
       "  </thead>\n",
       "  <tbody>\n",
       "    <tr>\n",
       "      <th>농업</th>\n",
       "      <td>75.102564</td>\n",
       "    </tr>\n",
       "  </tbody>\n",
       "</table>\n",
       "</div>"
      ],
      "text/plain": [
       "         수술시간\n",
       "직업           \n",
       "농업  75.102564"
      ]
     },
     "execution_count": 248,
     "metadata": {},
     "output_type": "execute_result"
    }
   ],
   "source": [
    "df_ROS_max_job = df_ROS_job.loc[df_ROS_job.idxmax()]\n",
    "df_ROS_max_job"
   ]
  },
  {
   "cell_type": "code",
   "execution_count": 249,
   "id": "75b902b5-37c9-47fc-ba24-c8461bf5f598",
   "metadata": {
    "tags": []
   },
   "outputs": [
    {
     "data": {
      "text/html": [
       "<div>\n",
       "<style scoped>\n",
       "    .dataframe tbody tr th:only-of-type {\n",
       "        vertical-align: middle;\n",
       "    }\n",
       "\n",
       "    .dataframe tbody tr th {\n",
       "        vertical-align: top;\n",
       "    }\n",
       "\n",
       "    .dataframe thead th {\n",
       "        text-align: right;\n",
       "    }\n",
       "</style>\n",
       "<table border=\"1\" class=\"dataframe\">\n",
       "  <thead>\n",
       "    <tr style=\"text-align: right;\">\n",
       "      <th></th>\n",
       "      <th>수술시간</th>\n",
       "    </tr>\n",
       "    <tr>\n",
       "      <th>직업</th>\n",
       "      <th></th>\n",
       "    </tr>\n",
       "  </thead>\n",
       "  <tbody>\n",
       "    <tr>\n",
       "      <th>운동선수</th>\n",
       "      <td>50.857143</td>\n",
       "    </tr>\n",
       "  </tbody>\n",
       "</table>\n",
       "</div>"
      ],
      "text/plain": [
       "           수술시간\n",
       "직업             \n",
       "운동선수  50.857143"
      ]
     },
     "execution_count": 249,
     "metadata": {},
     "output_type": "execute_result"
    }
   ],
   "source": [
    "df_ROS_min_job = df_ROS_job.loc[df_ROS_job.idxmin()]\n",
    "df_ROS_min_job"
   ]
  },
  {
   "cell_type": "code",
   "execution_count": 250,
   "id": "3c68b2cd-1449-4e0c-a706-229ce1a3d58f",
   "metadata": {
    "tags": []
   },
   "outputs": [
    {
     "data": {
      "text/html": [
       "<div>\n",
       "<style scoped>\n",
       "    .dataframe tbody tr th:only-of-type {\n",
       "        vertical-align: middle;\n",
       "    }\n",
       "\n",
       "    .dataframe tbody tr th {\n",
       "        vertical-align: top;\n",
       "    }\n",
       "\n",
       "    .dataframe thead th {\n",
       "        text-align: right;\n",
       "    }\n",
       "</style>\n",
       "<table border=\"1\" class=\"dataframe\">\n",
       "  <thead>\n",
       "    <tr style=\"text-align: right;\">\n",
       "      <th></th>\n",
       "      <th>수술시간</th>\n",
       "    </tr>\n",
       "    <tr>\n",
       "      <th>직업</th>\n",
       "      <th></th>\n",
       "    </tr>\n",
       "  </thead>\n",
       "  <tbody>\n",
       "    <tr>\n",
       "      <th>농업</th>\n",
       "      <td>75.102564</td>\n",
       "    </tr>\n",
       "    <tr>\n",
       "      <th>운동선수</th>\n",
       "      <td>50.857143</td>\n",
       "    </tr>\n",
       "  </tbody>\n",
       "</table>\n",
       "</div>"
      ],
      "text/plain": [
       "           수술시간\n",
       "직업             \n",
       "농업    75.102564\n",
       "운동선수  50.857143"
      ]
     },
     "execution_count": 250,
     "metadata": {},
     "output_type": "execute_result"
    }
   ],
   "source": [
    "result = pd.concat([df_ROS_max_job, df_ROS_min_job])\n",
    "result"
   ]
  },
  {
   "cell_type": "markdown",
   "id": "57951adc-3245-4ff2-84e4-7233cdb14fac",
   "metadata": {},
   "source": [
    "## 수술 시간 데이터 분석"
   ]
  },
  {
   "cell_type": "code",
   "execution_count": 251,
   "id": "6f3ff2bf-8045-41c1-ae1c-a45b29925168",
   "metadata": {
    "tags": []
   },
   "outputs": [],
   "source": [
    "condition = df_ROS_forpatient['수술시간'].median()"
   ]
  },
  {
   "cell_type": "code",
   "execution_count": 252,
   "id": "9963182d-6609-405e-9e24-42db391f5741",
   "metadata": {
    "tags": []
   },
   "outputs": [
    {
     "data": {
      "text/html": [
       "<div>\n",
       "<style scoped>\n",
       "    .dataframe tbody tr th:only-of-type {\n",
       "        vertical-align: middle;\n",
       "    }\n",
       "\n",
       "    .dataframe tbody tr th {\n",
       "        vertical-align: top;\n",
       "    }\n",
       "\n",
       "    .dataframe thead th {\n",
       "        text-align: right;\n",
       "    }\n",
       "</style>\n",
       "<table border=\"1\" class=\"dataframe\">\n",
       "  <thead>\n",
       "    <tr style=\"text-align: right;\">\n",
       "      <th></th>\n",
       "      <th>성별</th>\n",
       "      <th>신장</th>\n",
       "      <th>체중</th>\n",
       "      <th>흡연여부</th>\n",
       "      <th>직업</th>\n",
       "      <th>수술시간</th>\n",
       "    </tr>\n",
       "  </thead>\n",
       "  <tbody>\n",
       "    <tr>\n",
       "      <th>0</th>\n",
       "      <td>2</td>\n",
       "      <td>163</td>\n",
       "      <td>60.3</td>\n",
       "      <td>0</td>\n",
       "      <td>자영업</td>\n",
       "      <td>68.0</td>\n",
       "    </tr>\n",
       "    <tr>\n",
       "      <th>2</th>\n",
       "      <td>1</td>\n",
       "      <td>178</td>\n",
       "      <td>77.1</td>\n",
       "      <td>0</td>\n",
       "      <td>특수전문직</td>\n",
       "      <td>78.0</td>\n",
       "    </tr>\n",
       "    <tr>\n",
       "      <th>3</th>\n",
       "      <td>1</td>\n",
       "      <td>174</td>\n",
       "      <td>74.2</td>\n",
       "      <td>0</td>\n",
       "      <td>주부</td>\n",
       "      <td>73.0</td>\n",
       "    </tr>\n",
       "    <tr>\n",
       "      <th>7</th>\n",
       "      <td>1</td>\n",
       "      <td>183</td>\n",
       "      <td>81.2</td>\n",
       "      <td>1</td>\n",
       "      <td>NaN</td>\n",
       "      <td>85.0</td>\n",
       "    </tr>\n",
       "    <tr>\n",
       "      <th>12</th>\n",
       "      <td>1</td>\n",
       "      <td>174</td>\n",
       "      <td>74.4</td>\n",
       "      <td>0</td>\n",
       "      <td>NaN</td>\n",
       "      <td>94.0</td>\n",
       "    </tr>\n",
       "    <tr>\n",
       "      <th>...</th>\n",
       "      <td>...</td>\n",
       "      <td>...</td>\n",
       "      <td>...</td>\n",
       "      <td>...</td>\n",
       "      <td>...</td>\n",
       "      <td>...</td>\n",
       "    </tr>\n",
       "    <tr>\n",
       "      <th>1876</th>\n",
       "      <td>2</td>\n",
       "      <td>151</td>\n",
       "      <td>60.0</td>\n",
       "      <td>0</td>\n",
       "      <td>농업</td>\n",
       "      <td>110.0</td>\n",
       "    </tr>\n",
       "    <tr>\n",
       "      <th>1877</th>\n",
       "      <td>1</td>\n",
       "      <td>180</td>\n",
       "      <td>78.0</td>\n",
       "      <td>1</td>\n",
       "      <td>농업</td>\n",
       "      <td>90.0</td>\n",
       "    </tr>\n",
       "    <tr>\n",
       "      <th>1885</th>\n",
       "      <td>1</td>\n",
       "      <td>179</td>\n",
       "      <td>75.0</td>\n",
       "      <td>1</td>\n",
       "      <td>의료직</td>\n",
       "      <td>70.0</td>\n",
       "    </tr>\n",
       "    <tr>\n",
       "      <th>1887</th>\n",
       "      <td>2</td>\n",
       "      <td>163</td>\n",
       "      <td>56.0</td>\n",
       "      <td>0</td>\n",
       "      <td>무직</td>\n",
       "      <td>75.0</td>\n",
       "    </tr>\n",
       "    <tr>\n",
       "      <th>1889</th>\n",
       "      <td>2</td>\n",
       "      <td>157</td>\n",
       "      <td>64.0</td>\n",
       "      <td>0</td>\n",
       "      <td>무직</td>\n",
       "      <td>80.0</td>\n",
       "    </tr>\n",
       "  </tbody>\n",
       "</table>\n",
       "<p>969 rows × 6 columns</p>\n",
       "</div>"
      ],
      "text/plain": [
       "      성별   신장    체중  흡연여부     직업   수술시간\n",
       "0      2  163  60.3     0    자영업   68.0\n",
       "2      1  178  77.1     0  특수전문직   78.0\n",
       "3      1  174  74.2     0     주부   73.0\n",
       "7      1  183  81.2     1    NaN   85.0\n",
       "12     1  174  74.4     0    NaN   94.0\n",
       "...   ..  ...   ...   ...    ...    ...\n",
       "1876   2  151  60.0     0     농업  110.0\n",
       "1877   1  180  78.0     1     농업   90.0\n",
       "1885   1  179  75.0     1    의료직   70.0\n",
       "1887   2  163  56.0     0     무직   75.0\n",
       "1889   2  157  64.0     0     무직   80.0\n",
       "\n",
       "[969 rows x 6 columns]"
      ]
     },
     "execution_count": 252,
     "metadata": {},
     "output_type": "execute_result"
    }
   ],
   "source": [
    "df_ROS_forpatient[(df_ROS_forpatient['수술시간'] >= condition)]"
   ]
  },
  {
   "cell_type": "code",
   "execution_count": 253,
   "id": "075fc57b-fc4a-4964-a9fc-f76209c4ebbe",
   "metadata": {
    "tags": []
   },
   "outputs": [
    {
     "data": {
      "text/html": [
       "<div>\n",
       "<style scoped>\n",
       "    .dataframe tbody tr th:only-of-type {\n",
       "        vertical-align: middle;\n",
       "    }\n",
       "\n",
       "    .dataframe tbody tr th {\n",
       "        vertical-align: top;\n",
       "    }\n",
       "\n",
       "    .dataframe thead th {\n",
       "        text-align: right;\n",
       "    }\n",
       "</style>\n",
       "<table border=\"1\" class=\"dataframe\">\n",
       "  <thead>\n",
       "    <tr style=\"text-align: right;\">\n",
       "      <th></th>\n",
       "      <th>성별</th>\n",
       "      <th>신장</th>\n",
       "      <th>체중</th>\n",
       "      <th>흡연여부</th>\n",
       "      <th>직업</th>\n",
       "      <th>수술시간</th>\n",
       "    </tr>\n",
       "  </thead>\n",
       "  <tbody>\n",
       "    <tr>\n",
       "      <th>770</th>\n",
       "      <td>2</td>\n",
       "      <td>161</td>\n",
       "      <td>55.0</td>\n",
       "      <td>0</td>\n",
       "      <td>사무직</td>\n",
       "      <td>60.0</td>\n",
       "    </tr>\n",
       "    <tr>\n",
       "      <th>1566</th>\n",
       "      <td>1</td>\n",
       "      <td>170</td>\n",
       "      <td>72.0</td>\n",
       "      <td>0</td>\n",
       "      <td>군인</td>\n",
       "      <td>60.0</td>\n",
       "    </tr>\n",
       "    <tr>\n",
       "      <th>1565</th>\n",
       "      <td>2</td>\n",
       "      <td>170</td>\n",
       "      <td>55.0</td>\n",
       "      <td>0</td>\n",
       "      <td>사무직</td>\n",
       "      <td>60.0</td>\n",
       "    </tr>\n",
       "    <tr>\n",
       "      <th>977</th>\n",
       "      <td>2</td>\n",
       "      <td>160</td>\n",
       "      <td>60.0</td>\n",
       "      <td>0</td>\n",
       "      <td>주부</td>\n",
       "      <td>60.0</td>\n",
       "    </tr>\n",
       "    <tr>\n",
       "      <th>1563</th>\n",
       "      <td>1</td>\n",
       "      <td>165</td>\n",
       "      <td>65.0</td>\n",
       "      <td>0</td>\n",
       "      <td>무직</td>\n",
       "      <td>60.0</td>\n",
       "    </tr>\n",
       "    <tr>\n",
       "      <th>...</th>\n",
       "      <td>...</td>\n",
       "      <td>...</td>\n",
       "      <td>...</td>\n",
       "      <td>...</td>\n",
       "      <td>...</td>\n",
       "      <td>...</td>\n",
       "    </tr>\n",
       "    <tr>\n",
       "      <th>347</th>\n",
       "      <td>1</td>\n",
       "      <td>167</td>\n",
       "      <td>69.0</td>\n",
       "      <td>0</td>\n",
       "      <td>사무직</td>\n",
       "      <td>152.0</td>\n",
       "    </tr>\n",
       "    <tr>\n",
       "      <th>1428</th>\n",
       "      <td>2</td>\n",
       "      <td>162</td>\n",
       "      <td>60.0</td>\n",
       "      <td>0</td>\n",
       "      <td>NaN</td>\n",
       "      <td>155.0</td>\n",
       "    </tr>\n",
       "    <tr>\n",
       "      <th>1086</th>\n",
       "      <td>1</td>\n",
       "      <td>174</td>\n",
       "      <td>67.0</td>\n",
       "      <td>0</td>\n",
       "      <td>사무직</td>\n",
       "      <td>165.0</td>\n",
       "    </tr>\n",
       "    <tr>\n",
       "      <th>1128</th>\n",
       "      <td>2</td>\n",
       "      <td>163</td>\n",
       "      <td>70.0</td>\n",
       "      <td>0</td>\n",
       "      <td>NaN</td>\n",
       "      <td>190.0</td>\n",
       "    </tr>\n",
       "    <tr>\n",
       "      <th>1785</th>\n",
       "      <td>1</td>\n",
       "      <td>175</td>\n",
       "      <td>68.0</td>\n",
       "      <td>1</td>\n",
       "      <td>사무직</td>\n",
       "      <td>220.0</td>\n",
       "    </tr>\n",
       "  </tbody>\n",
       "</table>\n",
       "<p>969 rows × 6 columns</p>\n",
       "</div>"
      ],
      "text/plain": [
       "      성별   신장    체중  흡연여부   직업   수술시간\n",
       "770    2  161  55.0     0  사무직   60.0\n",
       "1566   1  170  72.0     0   군인   60.0\n",
       "1565   2  170  55.0     0  사무직   60.0\n",
       "977    2  160  60.0     0   주부   60.0\n",
       "1563   1  165  65.0     0   무직   60.0\n",
       "...   ..  ...   ...   ...  ...    ...\n",
       "347    1  167  69.0     0  사무직  152.0\n",
       "1428   2  162  60.0     0  NaN  155.0\n",
       "1086   1  174  67.0     0  사무직  165.0\n",
       "1128   2  163  70.0     0  NaN  190.0\n",
       "1785   1  175  68.0     1  사무직  220.0\n",
       "\n",
       "[969 rows x 6 columns]"
      ]
     },
     "execution_count": 253,
     "metadata": {},
     "output_type": "execute_result"
    }
   ],
   "source": [
    "## 수술시간 정렬\n",
    "df_ROS_forpatient[(df_ROS_forpatient['수술시간'] >= condition)].sort_values(by=['수술시간'])"
   ]
  },
  {
   "cell_type": "code",
   "execution_count": 254,
   "id": "6b658e00-a933-4713-9df5-34c4eb596c1d",
   "metadata": {
    "tags": []
   },
   "outputs": [],
   "source": [
    "list_med = ['체중','체중','신장', '신장', '흡연여부', '흡연여부', '성별', '성별', '직업', '직업']"
   ]
  },
  {
   "cell_type": "code",
   "execution_count": 255,
   "id": "d82fc3bf-c054-40ea-b1cd-df95b9f83fed",
   "metadata": {
    "tags": []
   },
   "outputs": [
    {
     "data": {
      "text/html": [
       "<div>\n",
       "<style scoped>\n",
       "    .dataframe tbody tr th:only-of-type {\n",
       "        vertical-align: middle;\n",
       "    }\n",
       "\n",
       "    .dataframe tbody tr th {\n",
       "        vertical-align: top;\n",
       "    }\n",
       "\n",
       "    .dataframe thead th {\n",
       "        text-align: right;\n",
       "    }\n",
       "</style>\n",
       "<table border=\"1\" class=\"dataframe\">\n",
       "  <thead>\n",
       "    <tr style=\"text-align: right;\">\n",
       "      <th></th>\n",
       "      <th>수술시간</th>\n",
       "    </tr>\n",
       "  </thead>\n",
       "  <tbody>\n",
       "    <tr>\n",
       "      <th>168cm 미만</th>\n",
       "      <td>60.983202</td>\n",
       "    </tr>\n",
       "    <tr>\n",
       "      <th>168cm 이상</th>\n",
       "      <td>63.390097</td>\n",
       "    </tr>\n",
       "    <tr>\n",
       "      <th>68kg 이상</th>\n",
       "      <td>62.427027</td>\n",
       "    </tr>\n",
       "    <tr>\n",
       "      <th>68kg 미만</th>\n",
       "      <td>61.701639</td>\n",
       "    </tr>\n",
       "    <tr>\n",
       "      <th>0</th>\n",
       "      <td>62.361554</td>\n",
       "    </tr>\n",
       "    <tr>\n",
       "      <th>1</th>\n",
       "      <td>61.000000</td>\n",
       "    </tr>\n",
       "    <tr>\n",
       "      <th>1</th>\n",
       "      <td>61.856014</td>\n",
       "    </tr>\n",
       "    <tr>\n",
       "      <th>2</th>\n",
       "      <td>62.407989</td>\n",
       "    </tr>\n",
       "    <tr>\n",
       "      <th>농업</th>\n",
       "      <td>75.102564</td>\n",
       "    </tr>\n",
       "    <tr>\n",
       "      <th>운동선수</th>\n",
       "      <td>50.857143</td>\n",
       "    </tr>\n",
       "  </tbody>\n",
       "</table>\n",
       "</div>"
      ],
      "text/plain": [
       "               수술시간\n",
       "168cm 미만  60.983202\n",
       "168cm 이상  63.390097\n",
       "68kg 이상   62.427027\n",
       "68kg 미만   61.701639\n",
       "0         62.361554\n",
       "1         61.000000\n",
       "1         61.856014\n",
       "2         62.407989\n",
       "농업        75.102564\n",
       "운동선수      50.857143"
      ]
     },
     "execution_count": 255,
     "metadata": {},
     "output_type": "execute_result"
    }
   ],
   "source": [
    "df = pd.concat([df_ROS_height, df_ROS_weight, df_ROS_smoke, df_ROS_gender, result], join='inner')\n",
    "df"
   ]
  },
  {
   "cell_type": "code",
   "execution_count": 256,
   "id": "a705b3d7-16fd-495a-9f95-51c907590ddf",
   "metadata": {
    "tags": []
   },
   "outputs": [
    {
     "data": {
      "text/html": [
       "<div>\n",
       "<style scoped>\n",
       "    .dataframe tbody tr th:only-of-type {\n",
       "        vertical-align: middle;\n",
       "    }\n",
       "\n",
       "    .dataframe tbody tr th {\n",
       "        vertical-align: top;\n",
       "    }\n",
       "\n",
       "    .dataframe thead th {\n",
       "        text-align: right;\n",
       "    }\n",
       "</style>\n",
       "<table border=\"1\" class=\"dataframe\">\n",
       "  <thead>\n",
       "    <tr style=\"text-align: right;\">\n",
       "      <th></th>\n",
       "      <th></th>\n",
       "      <th>평균 수술시간</th>\n",
       "    </tr>\n",
       "    <tr>\n",
       "      <th></th>\n",
       "      <th>구분</th>\n",
       "      <th></th>\n",
       "    </tr>\n",
       "  </thead>\n",
       "  <tbody>\n",
       "    <tr>\n",
       "      <th>168cm 미만</th>\n",
       "      <th>체중</th>\n",
       "      <td>60.983202</td>\n",
       "    </tr>\n",
       "    <tr>\n",
       "      <th>168cm 이상</th>\n",
       "      <th>체중</th>\n",
       "      <td>63.390097</td>\n",
       "    </tr>\n",
       "    <tr>\n",
       "      <th>68kg 이상</th>\n",
       "      <th>신장</th>\n",
       "      <td>62.427027</td>\n",
       "    </tr>\n",
       "    <tr>\n",
       "      <th>68kg 미만</th>\n",
       "      <th>신장</th>\n",
       "      <td>61.701639</td>\n",
       "    </tr>\n",
       "    <tr>\n",
       "      <th>0</th>\n",
       "      <th>흡연여부</th>\n",
       "      <td>62.361554</td>\n",
       "    </tr>\n",
       "    <tr>\n",
       "      <th rowspan=\"2\" valign=\"top\">1</th>\n",
       "      <th>흡연여부</th>\n",
       "      <td>61.000000</td>\n",
       "    </tr>\n",
       "    <tr>\n",
       "      <th>성별</th>\n",
       "      <td>61.856014</td>\n",
       "    </tr>\n",
       "    <tr>\n",
       "      <th>2</th>\n",
       "      <th>성별</th>\n",
       "      <td>62.407989</td>\n",
       "    </tr>\n",
       "    <tr>\n",
       "      <th>농업</th>\n",
       "      <th>직업</th>\n",
       "      <td>75.102564</td>\n",
       "    </tr>\n",
       "    <tr>\n",
       "      <th>운동선수</th>\n",
       "      <th>직업</th>\n",
       "      <td>50.857143</td>\n",
       "    </tr>\n",
       "  </tbody>\n",
       "</table>\n",
       "</div>"
      ],
      "text/plain": [
       "                 평균 수술시간\n",
       "         구분             \n",
       "168cm 미만 체중    60.983202\n",
       "168cm 이상 체중    63.390097\n",
       "68kg 이상  신장    62.427027\n",
       "68kg 미만  신장    61.701639\n",
       "0        흡연여부  62.361554\n",
       "1        흡연여부  61.000000\n",
       "         성별    61.856014\n",
       "2        성별    62.407989\n",
       "농업       직업    75.102564\n",
       "운동선수     직업    50.857143"
      ]
     },
     "execution_count": 256,
     "metadata": {},
     "output_type": "execute_result"
    }
   ],
   "source": [
    "df = pd.concat([df_ROS_height, df_ROS_weight, df_ROS_smoke, df_ROS_gender, result], join='inner')\n",
    "df[\"구분\"] = list_med\n",
    "df.rename(columns={\"수술시간\":\"평균 수술시간\"}, inplace=True)\n",
    "df = df.set_index(keys=\"구분\",append=True)\n",
    "df"
   ]
  },
  {
   "cell_type": "code",
   "execution_count": 257,
   "id": "4be5239a-e378-4155-ba2d-b672713dd67e",
   "metadata": {
    "tags": []
   },
   "outputs": [
    {
     "data": {
      "text/html": [
       "<div>\n",
       "<style scoped>\n",
       "    .dataframe tbody tr th:only-of-type {\n",
       "        vertical-align: middle;\n",
       "    }\n",
       "\n",
       "    .dataframe tbody tr th {\n",
       "        vertical-align: top;\n",
       "    }\n",
       "\n",
       "    .dataframe thead th {\n",
       "        text-align: right;\n",
       "    }\n",
       "</style>\n",
       "<table border=\"1\" class=\"dataframe\">\n",
       "  <thead>\n",
       "    <tr style=\"text-align: right;\">\n",
       "      <th></th>\n",
       "      <th></th>\n",
       "      <th>평균 수술시간</th>\n",
       "    </tr>\n",
       "    <tr>\n",
       "      <th>구분</th>\n",
       "      <th></th>\n",
       "      <th></th>\n",
       "    </tr>\n",
       "  </thead>\n",
       "  <tbody>\n",
       "    <tr>\n",
       "      <th rowspan=\"2\" valign=\"top\">체중</th>\n",
       "      <th>168cm 미만</th>\n",
       "      <td>60.983202</td>\n",
       "    </tr>\n",
       "    <tr>\n",
       "      <th>168cm 이상</th>\n",
       "      <td>63.390097</td>\n",
       "    </tr>\n",
       "    <tr>\n",
       "      <th rowspan=\"2\" valign=\"top\">신장</th>\n",
       "      <th>68kg 이상</th>\n",
       "      <td>62.427027</td>\n",
       "    </tr>\n",
       "    <tr>\n",
       "      <th>68kg 미만</th>\n",
       "      <td>61.701639</td>\n",
       "    </tr>\n",
       "    <tr>\n",
       "      <th rowspan=\"2\" valign=\"top\">흡연여부</th>\n",
       "      <th>0</th>\n",
       "      <td>62.361554</td>\n",
       "    </tr>\n",
       "    <tr>\n",
       "      <th>1</th>\n",
       "      <td>61.000000</td>\n",
       "    </tr>\n",
       "    <tr>\n",
       "      <th rowspan=\"2\" valign=\"top\">성별</th>\n",
       "      <th>1</th>\n",
       "      <td>61.856014</td>\n",
       "    </tr>\n",
       "    <tr>\n",
       "      <th>2</th>\n",
       "      <td>62.407989</td>\n",
       "    </tr>\n",
       "    <tr>\n",
       "      <th rowspan=\"2\" valign=\"top\">직업</th>\n",
       "      <th>농업</th>\n",
       "      <td>75.102564</td>\n",
       "    </tr>\n",
       "    <tr>\n",
       "      <th>운동선수</th>\n",
       "      <td>50.857143</td>\n",
       "    </tr>\n",
       "  </tbody>\n",
       "</table>\n",
       "</div>"
      ],
      "text/plain": [
       "                 평균 수술시간\n",
       "구분                      \n",
       "체중   168cm 미만  60.983202\n",
       "     168cm 이상  63.390097\n",
       "신장   68kg 이상   62.427027\n",
       "     68kg 미만   61.701639\n",
       "흡연여부 0         62.361554\n",
       "     1         61.000000\n",
       "성별   1         61.856014\n",
       "     2         62.407989\n",
       "직업   농업        75.102564\n",
       "     운동선수      50.857143"
      ]
     },
     "execution_count": 257,
     "metadata": {},
     "output_type": "execute_result"
    }
   ],
   "source": [
    "df_end = df.reorder_levels([1,0])\n",
    "df_end"
   ]
  },
  {
   "cell_type": "markdown",
   "id": "c1ea1f49-bd44-4933-a927-46abb6d3d67e",
   "metadata": {},
   "source": [
    "# "
   ]
  },
  {
   "cell_type": "code",
   "execution_count": null,
   "id": "81a7786d-0ea0-4f4c-8290-d53bd011d6c2",
   "metadata": {},
   "outputs": [],
   "source": []
  }
 ],
 "metadata": {
  "kernelspec": {
   "display_name": "Python 3 (ipykernel)",
   "language": "python",
   "name": "python3"
  },
  "language_info": {
   "codemirror_mode": {
    "name": "ipython",
    "version": 3
   },
   "file_extension": ".py",
   "mimetype": "text/x-python",
   "name": "python",
   "nbconvert_exporter": "python",
   "pygments_lexer": "ipython3",
   "version": "3.11.3"
  }
 },
 "nbformat": 4,
 "nbformat_minor": 5
}
