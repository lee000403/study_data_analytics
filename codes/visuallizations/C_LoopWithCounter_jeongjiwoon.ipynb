{
  "nbformat": 4,
  "nbformat_minor": 0,
  "metadata": {
    "colab": {
      "provenance": [],
      "authorship_tag": "ABX9TyPbHzO7bf7qwbBJyVNJGuRD",
      "include_colab_link": true
    },
    "kernelspec": {
      "name": "python3",
      "display_name": "Python 3"
    },
    "language_info": {
      "name": "python"
    }
  },
  "cells": [
    {
      "cell_type": "markdown",
      "metadata": {
        "id": "view-in-github",
        "colab_type": "text"
      },
      "source": [
        "<a href=\"https://colab.research.google.com/github/jeongjiwooon/toy_pythons/blob/main/C_LoopWithCounter_jeongjiwoon.ipynb\" target=\"_parent\"><img src=\"https://colab.research.google.com/assets/colab-badge.svg\" alt=\"Open In Colab\"/></a>"
      ]
    },
    {
      "cell_type": "code",
      "execution_count": 9,
      "metadata": {
        "colab": {
          "base_uri": "https://localhost:8080/"
        },
        "id": "eno2DtE9uyTB",
        "outputId": "badf3366-339c-4a31-a01f-eddcffed8d23"
      },
      "outputs": [
        {
          "output_type": "stream",
          "name": "stdout",
          "text": [
            "1\n",
            "2\n",
            "3\n",
            "4\n",
            "5\n",
            "END\n"
          ]
        }
      ],
      "source": [
        "count = 1\n",
        "while count < 6: #5 이하의 값은 반복 명령\n",
        "  print(count)\n",
        "  count = count + 1 # 반복을 끝내기 위하여 +1의 값 추가\n",
        "print(\"END\")"
      ]
    },
    {
      "cell_type": "markdown",
      "source": [
        "# 5까지 1씩 증가하는 값 넣기"
      ],
      "metadata": {
        "id": "r84d7fPJwI8A"
      }
    }
  ]
}