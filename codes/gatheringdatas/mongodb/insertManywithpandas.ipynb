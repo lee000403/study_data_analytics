{
 "cells": [
  {
   "cell_type": "code",
   "execution_count": 7,
   "id": "c372e70d-e025-48d2-83f1-9858423338cc",
   "metadata": {
    "tags": []
   },
   "outputs": [],
   "source": [
    "import pandas as pd"
   ]
  },
  {
   "cell_type": "code",
   "execution_count": 12,
   "id": "aa999761-af31-4a31-9b67-f849704b8e31",
   "metadata": {
    "tags": []
   },
   "outputs": [
    {
     "data": {
      "text/html": [
       "<div>\n",
       "<style scoped>\n",
       "    .dataframe tbody tr th:only-of-type {\n",
       "        vertical-align: middle;\n",
       "    }\n",
       "\n",
       "    .dataframe tbody tr th {\n",
       "        vertical-align: top;\n",
       "    }\n",
       "\n",
       "    .dataframe thead th {\n",
       "        text-align: right;\n",
       "    }\n",
       "</style>\n",
       "<table border=\"1\" class=\"dataframe\">\n",
       "  <thead>\n",
       "    <tr style=\"text-align: right;\">\n",
       "      <th></th>\n",
       "      <th>RN_INDI</th>\n",
       "      <th>BTH_YYYY</th>\n",
       "      <th>DTH_YYYYMM</th>\n",
       "      <th>COD1</th>\n",
       "      <th>COD2</th>\n",
       "    </tr>\n",
       "  </thead>\n",
       "  <tbody>\n",
       "    <tr>\n",
       "      <th>0</th>\n",
       "      <td>294364</td>\n",
       "      <td>1921LE</td>\n",
       "      <td>200707.0</td>\n",
       "      <td>T08-T14</td>\n",
       "      <td>W00-W19</td>\n",
       "    </tr>\n",
       "    <tr>\n",
       "      <th>1</th>\n",
       "      <td>646257</td>\n",
       "      <td>1921LE</td>\n",
       "      <td>200805.0</td>\n",
       "      <td>A15-A19</td>\n",
       "      <td>NaN</td>\n",
       "    </tr>\n",
       "    <tr>\n",
       "      <th>2</th>\n",
       "      <td>733575</td>\n",
       "      <td>1921LE</td>\n",
       "      <td>201309.0</td>\n",
       "      <td>G30</td>\n",
       "      <td>NaN</td>\n",
       "    </tr>\n",
       "  </tbody>\n",
       "</table>\n",
       "</div>"
      ],
      "text/plain": [
       "   RN_INDI BTH_YYYY  DTH_YYYYMM     COD1     COD2\n",
       "0   294364   1921LE    200707.0  T08-T14  W00-W19\n",
       "1   646257   1921LE    200805.0  A15-A19      NaN\n",
       "2   733575   1921LE    201309.0      G30      NaN"
      ]
     },
     "execution_count": 12,
     "metadata": {},
     "output_type": "execute_result"
    }
   ],
   "source": [
    "df_BND = pd.read_csv(\"./NSC2_BND.csv\")\n",
    "df_BND.head(3)"
   ]
  },
  {
   "cell_type": "code",
   "execution_count": 2,
   "id": "cb300fc3-c862-4417-bc98-b5a8e74364ce",
   "metadata": {
    "tags": []
   },
   "outputs": [],
   "source": [
    "import pymongo as mg"
   ]
  },
  {
   "cell_type": "code",
   "execution_count": 3,
   "id": "e123d0c9-740e-4aff-9bef-80027fafc6f2",
   "metadata": {
    "tags": []
   },
   "outputs": [
    {
     "data": {
      "text/plain": [
       "'3.12.0'"
      ]
     },
     "execution_count": 3,
     "metadata": {},
     "output_type": "execute_result"
    }
   ],
   "source": [
    "mg.__version__"
   ]
  },
  {
   "cell_type": "code",
   "execution_count": 4,
   "id": "08e24f1b-9ae5-41f3-a3f3-51cc2ead8da7",
   "metadata": {
    "tags": []
   },
   "outputs": [],
   "source": [
    "client = mg.MongoClient(host='mongodb://localhost:27017')"
   ]
  },
  {
   "cell_type": "code",
   "execution_count": 9,
   "id": "acd76529-5776-4e4d-bb19-b004d9a62b13",
   "metadata": {
    "tags": []
   },
   "outputs": [
    {
     "data": {
      "text/plain": [
       "Database(MongoClient(host=['localhost:27017'], document_class=dict, tz_aware=False, connect=True), 'study_test')"
      ]
     },
     "execution_count": 9,
     "metadata": {},
     "output_type": "execute_result"
    }
   ],
   "source": [
    "database = client['study_test']\n",
    "database"
   ]
  },
  {
   "cell_type": "code",
   "execution_count": 10,
   "id": "21c7943f-609c-4356-8287-ff685cfe6fc6",
   "metadata": {
    "tags": []
   },
   "outputs": [
    {
     "data": {
      "text/plain": [
       "Collection(Database(MongoClient(host=['localhost:27017'], document_class=dict, tz_aware=False, connect=True), 'study_test'), 'collect_tests')"
      ]
     },
     "execution_count": 10,
     "metadata": {},
     "output_type": "execute_result"
    }
   ],
   "source": [
    "collection = database['collect_tests']\n",
    "collection"
   ]
  },
  {
   "cell_type": "code",
   "execution_count": 14,
   "id": "c8d923e7-3458-49fe-af07-9e8211786b4a",
   "metadata": {
    "tags": []
   },
   "outputs": [],
   "source": [
    "data_list = df_BND.to_dict(orient=\"records\")"
   ]
  },
  {
   "cell_type": "code",
   "execution_count": 24,
   "id": "75ac54d7-41de-4594-9585-03ba459c0c26",
   "metadata": {
    "tags": []
   },
   "outputs": [
    {
     "data": {
      "text/plain": [
       "1000"
      ]
     },
     "execution_count": 24,
     "metadata": {},
     "output_type": "execute_result"
    }
   ],
   "source": [
    "type(data_list)\n",
    "len(data_list)"
   ]
  },
  {
   "cell_type": "code",
   "execution_count": 20,
   "id": "70f809b8-83cb-4e32-9734-95f4e1d7121b",
   "metadata": {
    "tags": []
   },
   "outputs": [
    {
     "data": {
      "text/plain": [
       "<pymongo.results.InsertManyResult at 0x164fae5d080>"
      ]
     },
     "execution_count": 20,
     "metadata": {},
     "output_type": "execute_result"
    }
   ],
   "source": [
    "collection.insert_many(data_list)"
   ]
  },
  {
   "cell_type": "code",
   "execution_count": null,
   "id": "e6f99f67-0014-4ce3-9ffc-c3a8658db2ba",
   "metadata": {},
   "outputs": [],
   "source": []
  }
 ],
 "metadata": {
  "kernelspec": {
   "display_name": "Python 3 (ipykernel)",
   "language": "python",
   "name": "python3"
  },
  "language_info": {
   "codemirror_mode": {
    "name": "ipython",
    "version": 3
   },
   "file_extension": ".py",
   "mimetype": "text/x-python",
   "name": "python",
   "nbconvert_exporter": "python",
   "pygments_lexer": "ipython3",
   "version": "3.11.3"
  }
 },
 "nbformat": 4,
 "nbformat_minor": 5
}
